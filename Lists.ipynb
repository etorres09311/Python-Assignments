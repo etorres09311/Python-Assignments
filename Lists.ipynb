{
  "nbformat": 4,
  "nbformat_minor": 0,
  "metadata": {
    "colab": {
      "provenance": [],
      "include_colab_link": true
    },
    "kernelspec": {
      "name": "python3",
      "display_name": "Python 3"
    },
    "language_info": {
      "name": "python"
    }
  },
  "cells": [
    {
      "cell_type": "markdown",
      "metadata": {
        "id": "view-in-github",
        "colab_type": "text"
      },
      "source": [
        "<a href=\"https://colab.research.google.com/github/etorres09311/Python-Assignments/blob/main/Lists.ipynb\" target=\"_parent\"><img src=\"https://colab.research.google.com/assets/colab-badge.svg\" alt=\"Open In Colab\"/></a>"
      ]
    },
    {
      "cell_type": "markdown",
      "source": [
        "# Lists in Python\n",
        "A list is an ordered collection of elements, and each element can be of any data type, such as numbers, strings, Booleans, or even other lists. In Python, lists are mutable, meaning their contents can be changed. Lists are particularly useful when you want to handle a group of related values.\n",
        "\n",
        "## Objective\n",
        "- Comprehend the application of lists\n",
        "- Understand how a list uses memory\n",
        "- Apply various operations on a list\n",
        "\n",
        "## Prerequisite\n",
        "\n",
        "- Decision statements\n",
        "- Input functions\n",
        "- Python literals\n",
        "- Programming variables\n",
        "\n",
        "\n",
        "## What do you need to complete this exercise?\n",
        "\n",
        "You can perform this exercise in any Python IDE, including JupyterLab or Google Colab.\n"
      ],
      "metadata": {
        "id": "2ITy4ycVFXBq"
      }
    },
    {
      "cell_type": "markdown",
      "source": [
        "a) a. Using a range function, generate a list of 100 integers and assign the list to ```my_list```. Verify that the variable ```my_list``` data type is list. Use your favorite four methods and apply on the list. You can find the methods on [Python Docs](https://docs.python.org/3/tutorial/datastructures.html)"
      ],
      "metadata": {
        "id": "uQxH0KO0tsDc"
      }
    },
    {
      "cell_type": "code",
      "source": [
        "my_list=list(range(100))\n",
        "print(type(my_list))\n",
        "\n",
        "print()"
      ],
      "metadata": {
        "id": "rRTflD1C9mjt",
        "outputId": "e444c5d4-09fb-4b79-e42a-cdeee947cd86",
        "colab": {
          "base_uri": "https://localhost:8080/"
        }
      },
      "execution_count": 2,
      "outputs": [
        {
          "output_type": "stream",
          "name": "stdout",
          "text": [
            "<class 'list'>\n"
          ]
        }
      ]
    },
    {
      "cell_type": "markdown",
      "source": [
        "b. Suppose that you have a list of 10 items long. How might you move the last three items from the end of the list to the beginning, keeping them in the same order?"
      ],
      "metadata": {
        "id": "0jkTuRdlA6sk"
      }
    },
    {
      "cell_type": "code",
      "source": [
        "my_list=list(range(100))\n",
        "print(type(my_list))\n",
        "my_list = my_list[-3:] + my_list[:-3]\n",
        "\n",
        "print(my_list)"
      ],
      "metadata": {
        "id": "8ZIVOfAMQt2Z",
        "outputId": "f2217b94-9659-4648-918e-8e8a492a1621",
        "colab": {
          "base_uri": "https://localhost:8080/"
        }
      },
      "execution_count": 2,
      "outputs": [
        {
          "output_type": "stream",
          "name": "stdout",
          "text": [
            "<class 'list'>\n",
            "[97, 98, 99, 0, 1, 2, 3, 4, 5, 6, 7, 8, 9, 10, 11, 12, 13, 14, 15, 16, 17, 18, 19, 20, 21, 22, 23, 24, 25, 26, 27, 28, 29, 30, 31, 32, 33, 34, 35, 36, 37, 38, 39, 40, 41, 42, 43, 44, 45, 46, 47, 48, 49, 50, 51, 52, 53, 54, 55, 56, 57, 58, 59, 60, 61, 62, 63, 64, 65, 66, 67, 68, 69, 70, 71, 72, 73, 74, 75, 76, 77, 78, 79, 80, 81, 82, 83, 84, 85, 86, 87, 88, 89, 90, 91, 92, 93, 94, 95, 96]\n"
          ]
        }
      ]
    },
    {
      "cell_type": "markdown",
      "source": [
        "c. What would be the result of ```len([[1,2]] * 3)```? Try to do it without coding and then verify using Python."
      ],
      "metadata": {
        "id": "Wv1LOaouA_Gq"
      }
    },
    {
      "cell_type": "code",
      "source": [
        "# Write your code here.\n",
        "print(len([[1,2]] * 3))"
      ],
      "metadata": {
        "id": "cF0UyMIqQ8V3",
        "outputId": "10d6d11d-e1f0-4bd2-fa00-4294392f8a2d",
        "colab": {
          "base_uri": "https://localhost:8080/"
        }
      },
      "execution_count": 3,
      "outputs": [
        {
          "output_type": "stream",
          "name": "stdout",
          "text": [
            "3\n"
          ]
        }
      ]
    },
    {
      "cell_type": "markdown",
      "source": [
        "d. Create a list ```my-list-ten``` of 10 items that includes some duplicate entries. Then, generate a second list ```my-list-ten-mem``` that contains the memory addresses of the items from the list ```my-list-ten```. Use Python to research and identify the unique and duplicate memory addresses."
      ],
      "metadata": {
        "id": "0IWZsl7LBGvD"
      }
    },
    {
      "cell_type": "code",
      "source": [
        "# Write your code here.\n",
        "my_list_ten = [1, 2, 2, 3, 4, 4, 5, 6, 6, 6]\n",
        "\n",
        "# Generate a list of memory addresses for each item\n",
        "my_list_ten_mem = [id(item) for item in my_list_ten]\n",
        "\n",
        "# Print the list of memory addresses\n",
        "print(\"Memory addresses:\", my_list_ten_mem)\n",
        "\n",
        "# Identify unique and duplicate memory addresses\n",
        "unique_addresses = set()\n",
        "duplicate_addresses = set()\n",
        "\n",
        "for addr in my_list_ten_mem:\n",
        "    if addr in unique_addresses:\n",
        "        duplicate_addresses.add(addr)\n",
        "    else:\n",
        "        unique_addresses.add(addr)\n",
        "\n",
        "print(\"Unique memory addresses:\", unique_addresses)\n",
        "print(\"Duplicate memory addresses:\", duplicate_addresses)"
      ],
      "metadata": {
        "id": "S5kO371-Q_NL",
        "outputId": "2f6cbffe-00ce-4cc1-d1c3-e751d5013d5c",
        "colab": {
          "base_uri": "https://localhost:8080/"
        }
      },
      "execution_count": 4,
      "outputs": [
        {
          "output_type": "stream",
          "name": "stdout",
          "text": [
            "Memory addresses: [10750856, 10750888, 10750888, 10750920, 10750952, 10750952, 10750984, 10751016, 10751016, 10751016]\n",
            "Unique memory addresses: {10750856, 10750984, 10750952, 10750888, 10750920, 10751016}\n",
            "Duplicate memory addresses: {10750888, 10751016, 10750952}\n"
          ]
        }
      ]
    },
    {
      "cell_type": "markdown",
      "source": [
        "e. Delete the list ```my-list-ten``` created in the above step."
      ],
      "metadata": {
        "id": "tJlIQIYjBPLX"
      }
    },
    {
      "cell_type": "code",
      "source": [
        "# Write your code here.\n",
        "my_list_ten = [1, 2, 2, 3, 4, 4, 5, 6, 6, 6]\n",
        "\n",
        "# Generate a list of memory addresses for each item\n",
        "my_list_ten_mem = [id(item) for item in my_list_ten]\n",
        "\n",
        "# Delete my_list_ten\n",
        "del my_list_ten\n",
        "\n",
        "# Print the list of memory addresses\n",
        "print(\"Memory addresses:\", my_list_ten_mem)\n",
        "\n",
        "# Identify unique and duplicate memory addresses\n",
        "unique_addresses = set()\n",
        "duplicate_addresses = set()\n",
        "\n",
        "for addr in my_list_ten_mem:\n",
        "    if addr in unique_addresses:\n",
        "        duplicate_addresses.add(addr)\n",
        "    else:\n",
        "        unique_addresses.add(addr)\n",
        "\n",
        "print(\"Unique memory addresses:\", unique_addresses)\n",
        "print(\"Duplicate memory addresses:\", duplicate_addresses)"
      ],
      "metadata": {
        "id": "fQr5X9N0RceU",
        "outputId": "08420384-3446-4d29-f783-addf2e53fcc8",
        "colab": {
          "base_uri": "https://localhost:8080/"
        }
      },
      "execution_count": 5,
      "outputs": [
        {
          "output_type": "stream",
          "name": "stdout",
          "text": [
            "Memory addresses: [10750856, 10750888, 10750888, 10750920, 10750952, 10750952, 10750984, 10751016, 10751016, 10751016]\n",
            "Unique memory addresses: {10750856, 10750984, 10750952, 10750888, 10750920, 10751016}\n",
            "Duplicate memory addresses: {10750888, 10751016, 10750952}\n"
          ]
        }
      ]
    },
    {
      "cell_type": "markdown",
      "source": [
        "f. Create a new list ```my-new-list``` of the same 10 items used in ```my-list-ten```. Generate memory addresses of the items in ```my-new-list``` and compare them with the memory addresses in ```my-list-ten-mem```. Discuss what do you observe."
      ],
      "metadata": {
        "id": "jflVX2GHBT3-"
      }
    },
    {
      "cell_type": "code",
      "source": [
        "# Write your code here.\n",
        "my_new_list = [1, 2, 2, 3, 4, 4, 5, 6, 6, 6]\n",
        "\n",
        "# Generate memory addresses for the new list\n",
        "my_new_list_mem = [id(item) for item in my_new_list]\n",
        "\n",
        "# Compare with my_list_ten_mem (previously stored memory addresses)\n",
        "comparison = [(old, new, old == new) for old, new in zip(my_list_ten_mem, my_new_list_mem)]\n",
        "\n",
        "# Print results\n",
        "print(\"Original vs New Memory Addresses (Same? True/False)\")\n",
        "for old_mem, new_mem, is_same in comparison:\n",
        "    print(f\"Old: {old_mem}, New: {new_mem}, Same: {is_same}\")"
      ],
      "metadata": {
        "id": "QacofGe4RdZX",
        "outputId": "d309c1bc-2bd3-4cf5-eaa1-9d126292e367",
        "colab": {
          "base_uri": "https://localhost:8080/"
        }
      },
      "execution_count": 6,
      "outputs": [
        {
          "output_type": "stream",
          "name": "stdout",
          "text": [
            "Original vs New Memory Addresses (Same? True/False)\n",
            "Old: 10750856, New: 10750856, Same: True\n",
            "Old: 10750888, New: 10750888, Same: True\n",
            "Old: 10750888, New: 10750888, Same: True\n",
            "Old: 10750920, New: 10750920, Same: True\n",
            "Old: 10750952, New: 10750952, Same: True\n",
            "Old: 10750952, New: 10750952, Same: True\n",
            "Old: 10750984, New: 10750984, Same: True\n",
            "Old: 10751016, New: 10751016, Same: True\n",
            "Old: 10751016, New: 10751016, Same: True\n",
            "Old: 10751016, New: 10751016, Same: True\n"
          ]
        }
      ]
    },
    {
      "cell_type": "markdown",
      "source": [
        "g. Suppose that you have the following list: ```x = [[1, 2, 3], [4, 5, 6], [7, 8, 9]]```. What code could you use to get a copy ```y``` of that list in which you could change the elements without the side effect of changing the contents of ```x```?"
      ],
      "metadata": {
        "id": "BRZq7VPZBYsN"
      }
    },
    {
      "cell_type": "code",
      "source": [
        "import copy\n",
        "\n",
        "x = [[1, 2, 3], [4, 5, 6], [7, 8, 9]]\n",
        "\n",
        "# Create a deep copy\n",
        "y = copy.deepcopy(x)\n",
        "\n",
        "# Modify y without affecting x\n",
        "y[0][0] = 99\n",
        "\n",
        "print(\"Original x:\", x)  # Remains unchanged\n",
        "print(\"Modified y:\", y)  # y is changed independently"
      ],
      "metadata": {
        "id": "5M7ksW8xsC3k",
        "outputId": "dae97287-8334-4046-918c-bc58e99d2cd8",
        "colab": {
          "base_uri": "https://localhost:8080/"
        }
      },
      "execution_count": 8,
      "outputs": [
        {
          "output_type": "stream",
          "name": "stdout",
          "text": [
            "Original x: [[1, 2, 3], [4, 5, 6], [7, 8, 9]]\n",
            "Modified y: [[99, 2, 3], [4, 5, 6], [7, 8, 9]]\n"
          ]
        }
      ]
    },
    {
      "cell_type": "markdown",
      "source": [
        "h. Is it possible to use multiple expressions within a list comprehension?"
      ],
      "metadata": {
        "id": "LUIwtfcJBnsq"
      }
    },
    {
      "cell_type": "code",
      "source": [
        "# True or False\n",
        "True"
      ],
      "metadata": {
        "id": "7xxHmgPKBoSc",
        "outputId": "d4cff4fe-cf1c-4d48-ddf3-1b0a1ea94e8e",
        "colab": {
          "base_uri": "https://localhost:8080/"
        }
      },
      "execution_count": 9,
      "outputs": [
        {
          "output_type": "execute_result",
          "data": {
            "text/plain": [
              "True"
            ]
          },
          "metadata": {},
          "execution_count": 9
        }
      ]
    },
    {
      "cell_type": "markdown",
      "source": [
        "i. Using a list comprehension, count how many spaces are in the following statement.\n",
        "\"To be, or not to be, this is the question\""
      ],
      "metadata": {
        "id": "dV-_5n78BxH4"
      }
    },
    {
      "cell_type": "code",
      "source": [
        "# Write your code here.\n",
        "statement = \"To be, or not to be, this is the question\"\n",
        "\n",
        "\n",
        "space_count = sum([1 for char in statement if char == \" \"])\n",
        "\n",
        "print(space_count)"
      ],
      "metadata": {
        "id": "1C6WRbQ1I_up",
        "outputId": "35dfc023-a432-4030-f193-6a241b41101e",
        "colab": {
          "base_uri": "https://localhost:8080/"
        }
      },
      "execution_count": 11,
      "outputs": [
        {
          "output_type": "stream",
          "name": "stdout",
          "text": [
            "9\n"
          ]
        }
      ]
    },
    {
      "cell_type": "markdown",
      "source": [
        "j. Choose any 5 lists operations of your choice from the link https://docs.python.org/3/tutorial/datastructures.html\n"
      ],
      "metadata": {
        "id": "QJQ3mnTyIz7c"
      }
    },
    {
      "cell_type": "code",
      "source": [
        "# Write your code here.\n",
        "my_list = [1, 2, 3]\n",
        "\n",
        "my_list.append(4)\n",
        "\n",
        "my_list.extend([5, 6])\n",
        "\n",
        "my_list.insert(2, 99)\n",
        "\n",
        "my_list.remove(99)\n",
        "\n",
        "my_list.sort()\n",
        "\n",
        "print(my_list)"
      ],
      "metadata": {
        "id": "7JcT_W26B0Nu",
        "outputId": "89ea9655-c6e5-487b-c983-222b59d09c0e",
        "colab": {
          "base_uri": "https://localhost:8080/"
        }
      },
      "execution_count": 12,
      "outputs": [
        {
          "output_type": "stream",
          "name": "stdout",
          "text": [
            "[1, 2, 3, 4, 5, 6]\n"
          ]
        }
      ]
    },
    {
      "cell_type": "markdown",
      "source": [
        "## Challenges\n",
        "\n",
        "Please describe the challenges you faced during the exercise."
      ],
      "metadata": {
        "id": "xQzjxKdvvbyo"
      }
    },
    {
      "cell_type": "markdown",
      "source": [
        "Finding each function to use in the right contexts."
      ],
      "metadata": {
        "id": "qfJNpTB5EbY4"
      }
    }
  ]
}