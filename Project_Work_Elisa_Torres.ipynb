{
  "nbformat": 4,
  "nbformat_minor": 0,
  "metadata": {
    "colab": {
      "provenance": [],
      "authorship_tag": "ABX9TyOvk32bAFpK2P+/xYISHrEk",
      "include_colab_link": true
    },
    "kernelspec": {
      "name": "python3",
      "display_name": "Python 3"
    },
    "language_info": {
      "name": "python"
    }
  },
  "cells": [
    {
      "cell_type": "markdown",
      "metadata": {
        "id": "view-in-github",
        "colab_type": "text"
      },
      "source": [
        "<a href=\"https://colab.research.google.com/github/etorres09311/Python-Assignments/blob/main/Project_Work_Elisa_Torres.ipynb\" target=\"_parent\"><img src=\"https://colab.research.google.com/assets/colab-badge.svg\" alt=\"Open In Colab\"/></a>"
      ]
    },
    {
      "cell_type": "markdown",
      "source": [
        "**Task A: Number Guessing Game**"
      ],
      "metadata": {
        "id": "nM9VXi3zaMwM"
      }
    },
    {
      "cell_type": "code",
      "source": [
        "def number_game():\n",
        "    print(\"Think of a number between 1 and 100!\")\n",
        "    low, high = 1, 100\n",
        "    attempts = 0\n",
        "    while low <= high:\n",
        "        guess = (low + high) // 2\n",
        "        attempts += 1\n",
        "        while True:\n",
        "            print(f\"Is your number greater (>), equal (=), or less (<) than {guess}?\")\n",
        "            response = input(\"Please answer (<, =, >): \").strip()\n",
        "            if response in (\"<\", \"=\", \">\"):\n",
        "                break\n",
        "            print(\"Invalid response. Please enter '<', '=', or '>'.\")\n",
        "        if response == \"=\":\n",
        "            print(f\"I have guessed it! Your number is {guess} in {attempts} steps!\")\n",
        "            break\n",
        "        elif response == \"<\":\n",
        "            if guess <= low:\n",
        "                print(\"This is a conflicting answer! Don't lie!\")\n",
        "                continue\n",
        "            high = guess - 1\n",
        "        elif response == \">\":\n",
        "            if guess >= high:\n",
        "                print(\"This is a conflicting answer! Don't lie!\")\n",
        "                continue\n",
        "            low = guess + 1\n",
        "if __name__ == \"__main__\":\n",
        "    number_game()"
      ],
      "metadata": {
        "colab": {
          "base_uri": "https://localhost:8080/"
        },
        "id": "JDIbUxJDbRDZ",
        "outputId": "66cf6dde-0d65-4e3f-dabf-e594050ae584"
      },
      "execution_count": 25,
      "outputs": [
        {
          "output_type": "stream",
          "name": "stdout",
          "text": [
            "Think of a number between 1 and 100!\n",
            "Is your number greater (>), equal (=), or less (<) than 50?\n",
            "Please answer (<, =, >): Hello!\n",
            "Invalid response. Please enter '<', '=', or '>'.\n",
            "Is your number greater (>), equal (=), or less (<) than 50?\n",
            "Please answer (<, =, >): <\n",
            "Is your number greater (>), equal (=), or less (<) than 25?\n",
            "Please answer (<, =, >): <\n",
            "Is your number greater (>), equal (=), or less (<) than 12?\n",
            "Please answer (<, =, >): >\n",
            "Is your number greater (>), equal (=), or less (<) than 18?\n",
            "Please answer (<, =, >): >\n",
            "Is your number greater (>), equal (=), or less (<) than 21?\n",
            "Please answer (<, =, >): >\n",
            "Is your number greater (>), equal (=), or less (<) than 23?\n",
            "Please answer (<, =, >): >\n",
            "Is your number greater (>), equal (=), or less (<) than 24?\n",
            "Please answer (<, =, >): >\n",
            "This is a conflicting answer! Don't lie!\n",
            "Is your number greater (>), equal (=), or less (<) than 24?\n",
            "Please answer (<, =, >): =\n",
            "I have guessed it! Your number is 24 in 8 steps!\n"
          ]
        }
      ]
    },
    {
      "cell_type": "markdown",
      "source": [
        "Task B:"
      ],
      "metadata": {
        "id": "sSbiKgLtaUHm"
      }
    },
    {
      "cell_type": "code",
      "source": [
        "def number_game():\n",
        "    print(\"Think of a number between 1 and 100, or think of a character between A-Z or a-z!\")\n",
        "    while True:\n",
        "        choice = input(\"Are you thinking of a (N)umber or a (L)etter? Please type 'N' or 'L': \").strip().upper()\n",
        "        if choice in ['N', 'L']:\n",
        "            break\n",
        "        print(\"Invalid choice. Please enter 'N' for number or 'L' for letter.\")\n",
        "    attempts = 0\n",
        "    if choice == 'N':\n",
        "        low, high = 1, 100\n",
        "        while low <= high:\n",
        "            guess = (low + high) // 2\n",
        "            attempts += 1\n",
        "            while True:\n",
        "                print(f\"Is your number greater (>), equal (=), or less (<) than {guess}?\")\n",
        "                response = input(\"Please answer (<, =, >): \").strip()\n",
        "                if response in (\"<\", \"=\", \">\"):\n",
        "                    break\n",
        "                print(\"Invalid response. Please enter '<', '=', or '>'.\")\n",
        "            if response == \"=\":\n",
        "                print(f\"I have guessed it! Your number is {guess} in {attempts} steps!\")\n",
        "                break\n",
        "            elif response == \"<\":\n",
        "                if guess <= low:\n",
        "                    print(\"This is a conflicting answer! Don't lie!\")\n",
        "                    continue\n",
        "                high = guess - 1\n",
        "            elif response == \">\":\n",
        "                if guess >= high:\n",
        "                    print(\"This is a conflicting answer! Don't lie!\")\n",
        "                    continue\n",
        "                low = guess + 1\n",
        "    elif choice == 'L':\n",
        "        low, high = 'A', 'z'\n",
        "        while ord(low) <= ord(high):\n",
        "            guess = chr((ord(low) + ord(high)) // 2)\n",
        "            attempts += 1\n",
        "            while True:\n",
        "                print(f\"Is your letter greater (>), equal (=), or less (<) than {guess}?\")\n",
        "                response = input(\"Please answer (<, =, >): \").strip()\n",
        "                if response in (\"<\", \"=\", \">\"):\n",
        "                    break\n",
        "                print(\"Invalid response. Please enter '<', '=', or '>'.\")\n",
        "            if response == \"=\":\n",
        "                print(f\"I have guessed it! Your letter is {guess} in {attempts} steps!\")\n",
        "                break\n",
        "            elif response == \"<\":\n",
        "                if guess <= low:\n",
        "                    print(\"This is a conflicting answer! Don't lie!\")\n",
        "                    continue\n",
        "                high = chr(ord(guess) - 1)\n",
        "            elif response == \">\":\n",
        "                if guess >= high:\n",
        "                    print(\"This is a conflicting answer! Don't lie!\")\n",
        "                    continue\n",
        "                low = chr(ord(guess) + 1)\n",
        "if __name__ == \"__main__\":\n",
        "    number_game()"
      ],
      "metadata": {
        "colab": {
          "base_uri": "https://localhost:8080/"
        },
        "id": "uPL9yQzpdkCz",
        "outputId": "96bb037c-4b9a-46e6-a428-163530a3e7af"
      },
      "execution_count": 29,
      "outputs": [
        {
          "output_type": "stream",
          "name": "stdout",
          "text": [
            "Think of a number between 1 and 100, or think of a character between A-Z or a-z!\n",
            "Are you thinking of a (N)umber or a (L)etter? Please type 'N' or 'L': L\n",
            "Is your letter greater (>), equal (=), or less (<) than ]?\n",
            "Please answer (<, =, >): <\n",
            "Is your letter greater (>), equal (=), or less (<) than N?\n",
            "Please answer (<, =, >): <\n",
            "Is your letter greater (>), equal (=), or less (<) than G?\n",
            "Please answer (<, =, >): <\n",
            "Is your letter greater (>), equal (=), or less (<) than C?\n",
            "Please answer (<, =, >): <\n",
            "Is your letter greater (>), equal (=), or less (<) than A?\n",
            "Please answer (<, =, >): <\n",
            "This is a conflicting answer! Don't lie!\n",
            "Is your letter greater (>), equal (=), or less (<) than A?\n",
            "Please answer (<, =, >): =\n",
            "I have guessed it! Your letter is A in 6 steps!\n"
          ]
        }
      ]
    }
  ]
}