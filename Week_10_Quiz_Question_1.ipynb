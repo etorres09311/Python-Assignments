{
  "nbformat": 4,
  "nbformat_minor": 0,
  "metadata": {
    "colab": {
      "provenance": [],
      "authorship_tag": "ABX9TyPDWTRpTx02pG4C6JnOzajw",
      "include_colab_link": true
    },
    "kernelspec": {
      "name": "python3",
      "display_name": "Python 3"
    },
    "language_info": {
      "name": "python"
    }
  },
  "cells": [
    {
      "cell_type": "markdown",
      "metadata": {
        "id": "view-in-github",
        "colab_type": "text"
      },
      "source": [
        "<a href=\"https://colab.research.google.com/github/etorres09311/Python-Assignments/blob/main/Week_10_Quiz_Question_1.ipynb\" target=\"_parent\"><img src=\"https://colab.research.google.com/assets/colab-badge.svg\" alt=\"Open In Colab\"/></a>"
      ]
    },
    {
      "cell_type": "code",
      "execution_count": 10,
      "metadata": {
        "colab": {
          "base_uri": "https://localhost:8080/"
        },
        "id": "O7ElWPnVv3ts",
        "outputId": "5edea6ff-01f8-4c18-c46f-e198b2254921"
      },
      "outputs": [
        {
          "output_type": "stream",
          "name": "stdout",
          "text": [
            "Total words = 10\n",
            "Average length = 3.2\n"
          ]
        },
        {
          "output_type": "execute_result",
          "data": {
            "text/plain": [
              "(10, 3.2)"
            ]
          },
          "metadata": {},
          "execution_count": 10
        }
      ],
      "source": [
        "with open(\"example.txt\", \"w\") as file:\n",
        "    file.write(\"To be or not to be, that is the question.\")\n",
        "def word_stats(filename):\n",
        "    with open(filename, 'r') as file:\n",
        "        contents = file.read()\n",
        "        words = contents.split()\n",
        "        total_words = len(words)\n",
        "        total_length = sum(len(word) for word in words)\n",
        "        average_length = total_length / total_words if total_words > 0 else 0\n",
        "        print(f\"Total words = {total_words}\")\n",
        "        print(f\"Average length = {average_length}\")\n",
        "        return total_words, average_length\n",
        "word_stats(\"example.txt\")"
      ]
    }
  ]
}