{
  "nbformat": 4,
  "nbformat_minor": 0,
  "metadata": {
    "colab": {
      "provenance": [],
      "include_colab_link": true
    },
    "kernelspec": {
      "name": "python3",
      "display_name": "Python 3"
    },
    "language_info": {
      "name": "python"
    }
  },
  "cells": [
    {
      "cell_type": "markdown",
      "metadata": {
        "id": "view-in-github",
        "colab_type": "text"
      },
      "source": [
        "<a href=\"https://colab.research.google.com/github/etorres09311/Python-Assignments/blob/main/Input.ipynb\" target=\"_parent\"><img src=\"https://colab.research.google.com/assets/colab-badge.svg\" alt=\"Open In Colab\"/></a>"
      ]
    },
    {
      "cell_type": "markdown",
      "source": [
        "# User input in Python\n",
        "\n",
        "## Objective\n",
        "1. Understand how ```input()``` function is applied.\n",
        "\n",
        "## Prerequisite\n",
        "\n",
        "- Python literals lecture & lab\n",
        "- Programming variables lecture\n",
        "\n",
        "## What do you need to complete this exercise?\n",
        "\n",
        "You can perform this exercise in any Python IDE, including JupyterLab or Google Colab.\n"
      ],
      "metadata": {
        "id": "2ITy4ycVFXBq"
      }
    },
    {
      "cell_type": "markdown",
      "source": [
        "### User input\n",
        "\n",
        "a. Write a program that prompts the user to enter the weight of a person in kilograms and outputs the equivalent weight in pounds. (Note that 1 kilogram = 2.2 pounds)."
      ],
      "metadata": {
        "id": "uQxH0KO0tsDc"
      }
    },
    {
      "cell_type": "code",
      "source": [
        "# Write your code here\n",
        "# Hint: Use int() or float() to convert the user input into an integer or float\n",
        "x = \"10\"\n",
        "print(type(x))\n",
        "x = int(x)\n",
        "print(type(x))\n",
        "\n",
        "\n",
        "\n",
        "my_var=input(\"Enter your weight in kilograms to convert into pounds:\")\n",
        "my_var=float(my_var)\n",
        "print(my_var*2.2)\n"
      ],
      "metadata": {
        "colab": {
          "base_uri": "https://localhost:8080/"
        },
        "id": "N3wgQQ672rWR",
        "outputId": "ff328a42-8e3e-4c93-c5bb-f7fa6d55f192"
      },
      "execution_count": 5,
      "outputs": [
        {
          "output_type": "stream",
          "name": "stdout",
          "text": [
            "<class 'str'>\n",
            "<class 'int'>\n",
            "Enter your weight in kilograms to convert into pounds:55\n",
            "121.00000000000001\n"
          ]
        }
      ]
    },
    {
      "cell_type": "markdown",
      "source": [
        "b. Interest on a credit card's unpaid balance is calculated using the average daily balance. Suppose that $netBalance$ is the balance shown in the bill, $payment$ is the payment made, $d1$ is the number of days in the billing cycle, and $d2$ is the number of days payment is made before biling cycle. Then, the average daily balance is: $$averageDailybalance = (netBalance \\times d1 - payment \\times d2)/d1$$.\n",
        "\n",
        "If the interest rate per month is, say, 0.0152, then the interest on the unpaid balance is: $interest = averageDailyBalance \\times 0.0152$\n",
        "\n",
        "Write a program that accepts as input $netBalance$, $payment$, $d1$, $d2$, and $interest rate per month$. The program outputs the interest."
      ],
      "metadata": {
        "id": "2ou6B-5b2ws3"
      }
    },
    {
      "cell_type": "code",
      "source": [
        "net_balance = float(input(\"Enter net balance: \"))\n",
        "days_in_billing_cycle = int(input(\"Enter number of days in the billing cycle: \"))\n",
        "payment = float(input(\"Enter payment made: \"))\n",
        "days_before_billing_cycle = int(input(\"Enter number of days payment is made before billing cycle: \"))\n",
        "interest_rate = float(input(\"Enter interest rate per month: \"))"
      ],
      "metadata": {
        "id": "pqP70bD02x9h",
        "outputId": "48742c29-da5c-4c1d-a4a0-5330aba189f8",
        "colab": {
          "base_uri": "https://localhost:8080/"
        }
      },
      "execution_count": 6,
      "outputs": [
        {
          "name": "stdout",
          "output_type": "stream",
          "text": [
            "Enter net balance: 100\n",
            "Enter number of days in the billing cycle: 3\n",
            "Enter payment made: 20\n",
            "Enter number of days payment is made before billing cycle: 7\n",
            "Enter interest rate per month: 0.0152\n"
          ]
        }
      ]
    },
    {
      "cell_type": "markdown",
      "source": [
        "*c*. Two cars A and B leave an intersection at the same time. Car A travels west at an average speed of x miles per hour and car B travels south at an average speed of y miles per hour. Write a program that prompts the user to enter the average speed of both the cars and the elapsed time (in hours and minutes) and outputs the (shortest) distance between the cars."
      ],
      "metadata": {
        "id": "gAxw_xVk25qO"
      }
    },
    {
      "cell_type": "code",
      "source": [
        "my_var1=input(\"Enter Car A's average speed in miles per hour: \")\n",
        "my_var2=input(\"Enter Car B's average speed in miles per hour: \")\n",
        "input(\"Enter elapsed time in hours: \")\n",
        "input(\"Enter elapsed time in minutes:\")\n",
        "input(\"Enter the shortest distance between the cars:\")"
      ],
      "metadata": {
        "id": "nMPuZXsH26nW",
        "outputId": "3ab9eeb6-7647-46cd-8366-dfcba397f451",
        "colab": {
          "base_uri": "https://localhost:8080/",
          "height": 125
        }
      },
      "execution_count": 9,
      "outputs": [
        {
          "name": "stdout",
          "output_type": "stream",
          "text": [
            "Enter Car A's average speed in miles per hour: 50\n",
            "Enter Car B's average speed in miles per hour: 60\n",
            "Enter elapsed time in hours: 4\n",
            "Enter elapsed time in minutes:30\n",
            "Enter the shortest distance between the cars:600ft\n"
          ]
        },
        {
          "output_type": "execute_result",
          "data": {
            "text/plain": [
              "'600ft'"
            ],
            "application/vnd.google.colaboratory.intrinsic+json": {
              "type": "string"
            }
          },
          "metadata": {},
          "execution_count": 9
        }
      ]
    },
    {
      "cell_type": "markdown",
      "source": [
        "### Troubleshooting\n",
        "\n",
        "Please troubleshoot the following issue **without using Python**, and explain your reasoning.\n",
        "\n",
        "a. ```hello = \"hello\"```  \n",
        "b. ```_var = 100```  \n",
        "c. ```!var_1 = 200```  \n",
        "d. ```print = \"print me\"```  \n",
        "e. ```False = 0```  "
      ],
      "metadata": {
        "id": "V0l5fqK-NJ2n"
      }
    },
    {
      "cell_type": "markdown",
      "source": [
        "a. The argument \"hello\" needs a variable attached, such as var1, so it should become var1=\"hello\" to be able to be read as a value. b. The name \"var\" should be renamed into \"var\", as it should usually start with a letter. c. The name \"!var_1\" is invalid, variable names should not have special characters other than an underscore. d. It should be written as print(\"print me\"), since print is not a variable and is instead a function. e. You cannot assign a value to a boolean keyword, and \"false\" already has a predetermined/assigned purpose.e your answer here"
      ],
      "metadata": {
        "id": "Cz8CqobPNO8n"
      }
    },
    {
      "cell_type": "markdown",
      "source": [
        "## Challenges\n",
        "\n",
        "Please describe the challenges you faced during the exercise."
      ],
      "metadata": {
        "id": "xQzjxKdvvbyo"
      }
    },
    {
      "cell_type": "markdown",
      "source": [
        "It was very difficult to figure out what functions I should use, especially using them in a way that requires user input. The questions were also slightly vague and it made me struggle a little on what the questions were asking me to do."
      ],
      "metadata": {
        "id": "qfJNpTB5EbY4"
      }
    }
  ]
}